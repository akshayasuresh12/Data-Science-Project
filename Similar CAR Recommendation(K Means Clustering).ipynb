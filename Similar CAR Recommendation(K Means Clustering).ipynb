{
 "cells": [
  {
   "cell_type": "markdown",
   "id": "567a67e5",
   "metadata": {},
   "source": [
    "# Similar Car Recommendation (K-Means Clustering)\n"
   ]
  },
  {
   "cell_type": "markdown",
   "id": "260f05aa",
   "metadata": {},
   "source": [
    "# Unsupervised Machine Learning Algorithm"
   ]
  },
  {
   "cell_type": "markdown",
   "id": "b31396c0",
   "metadata": {},
   "source": [
    "# Problem Statement:"
   ]
  },
  {
   "cell_type": "markdown",
   "id": "39b8a991",
   "metadata": {},
   "source": [
    "\n",
    "Similar Car Recommendation (K-Means Clustering).\n",
    "Similar cars are recommended as per our preferred car. Used KNN technique, Elbow Curve Method to find the best value of K. Created\n",
    "Dendrogram. "
   ]
  },
  {
   "cell_type": "markdown",
   "id": "e8483f23",
   "metadata": {},
   "source": [
    "# Import Libraries"
   ]
  },
  {
   "cell_type": "code",
   "execution_count": 1,
   "id": "d8d71f03",
   "metadata": {},
   "outputs": [],
   "source": [
    "import pandas as pd\n",
    "import matplotlib.pyplot as plt\n",
    "from warnings import filterwarnings\n",
    "filterwarnings(\"ignore\")"
   ]
  },
  {
   "cell_type": "markdown",
   "id": "64abe02d",
   "metadata": {},
   "source": [
    "# Collecting Data\n",
    "\n"
   ]
  },
  {
   "cell_type": "markdown",
   "id": "649d2d9d",
   "metadata": {},
   "source": [
    "\n",
    "Reading in the Cars93.csv file into a pandas dataframe.\n"
   ]
  },
  {
   "cell_type": "code",
   "execution_count": 2,
   "id": "c92bb55c",
   "metadata": {},
   "outputs": [],
   "source": [
    "A = pd.read_csv(\"E:/Desktop/Cars93.csv\")"
   ]
  },
  {
   "cell_type": "code",
   "execution_count": 3,
   "id": "57db5ce2",
   "metadata": {},
   "outputs": [
    {
     "data": {
      "text/html": [
       "<div>\n",
       "<style scoped>\n",
       "    .dataframe tbody tr th:only-of-type {\n",
       "        vertical-align: middle;\n",
       "    }\n",
       "\n",
       "    .dataframe tbody tr th {\n",
       "        vertical-align: top;\n",
       "    }\n",
       "\n",
       "    .dataframe thead th {\n",
       "        text-align: right;\n",
       "    }\n",
       "</style>\n",
       "<table border=\"1\" class=\"dataframe\">\n",
       "  <thead>\n",
       "    <tr style=\"text-align: right;\">\n",
       "      <th></th>\n",
       "      <th>id</th>\n",
       "      <th>Manufacturer</th>\n",
       "      <th>Model</th>\n",
       "      <th>Type</th>\n",
       "      <th>Min.Price</th>\n",
       "      <th>Price</th>\n",
       "      <th>Max.Price</th>\n",
       "      <th>MPG.city</th>\n",
       "      <th>MPG.highway</th>\n",
       "      <th>AirBags</th>\n",
       "      <th>...</th>\n",
       "      <th>Passengers</th>\n",
       "      <th>Length</th>\n",
       "      <th>Wheelbase</th>\n",
       "      <th>Width</th>\n",
       "      <th>Turn.circle</th>\n",
       "      <th>Rear.seat.room</th>\n",
       "      <th>Luggage.room</th>\n",
       "      <th>Weight</th>\n",
       "      <th>Origin</th>\n",
       "      <th>Make</th>\n",
       "    </tr>\n",
       "  </thead>\n",
       "  <tbody>\n",
       "    <tr>\n",
       "      <th>0</th>\n",
       "      <td>1</td>\n",
       "      <td>Acura</td>\n",
       "      <td>Integra</td>\n",
       "      <td>Small</td>\n",
       "      <td>12.9</td>\n",
       "      <td>15.9</td>\n",
       "      <td>18.8</td>\n",
       "      <td>25</td>\n",
       "      <td>31</td>\n",
       "      <td>None</td>\n",
       "      <td>...</td>\n",
       "      <td>5</td>\n",
       "      <td>177</td>\n",
       "      <td>102</td>\n",
       "      <td>68</td>\n",
       "      <td>37</td>\n",
       "      <td>26.5</td>\n",
       "      <td>11.0</td>\n",
       "      <td>2705</td>\n",
       "      <td>non-USA</td>\n",
       "      <td>Acura Integra</td>\n",
       "    </tr>\n",
       "    <tr>\n",
       "      <th>1</th>\n",
       "      <td>2</td>\n",
       "      <td>Acura</td>\n",
       "      <td>Legend</td>\n",
       "      <td>Midsize</td>\n",
       "      <td>29.2</td>\n",
       "      <td>33.9</td>\n",
       "      <td>38.7</td>\n",
       "      <td>18</td>\n",
       "      <td>25</td>\n",
       "      <td>Driver &amp; Passenger</td>\n",
       "      <td>...</td>\n",
       "      <td>5</td>\n",
       "      <td>195</td>\n",
       "      <td>115</td>\n",
       "      <td>71</td>\n",
       "      <td>38</td>\n",
       "      <td>30.0</td>\n",
       "      <td>15.0</td>\n",
       "      <td>3560</td>\n",
       "      <td>non-USA</td>\n",
       "      <td>Acura Legend</td>\n",
       "    </tr>\n",
       "    <tr>\n",
       "      <th>2</th>\n",
       "      <td>3</td>\n",
       "      <td>Audi</td>\n",
       "      <td>90</td>\n",
       "      <td>Compact</td>\n",
       "      <td>25.9</td>\n",
       "      <td>29.1</td>\n",
       "      <td>32.3</td>\n",
       "      <td>20</td>\n",
       "      <td>26</td>\n",
       "      <td>Driver only</td>\n",
       "      <td>...</td>\n",
       "      <td>5</td>\n",
       "      <td>180</td>\n",
       "      <td>102</td>\n",
       "      <td>67</td>\n",
       "      <td>37</td>\n",
       "      <td>28.0</td>\n",
       "      <td>14.0</td>\n",
       "      <td>3375</td>\n",
       "      <td>non-USA</td>\n",
       "      <td>Audi 90</td>\n",
       "    </tr>\n",
       "    <tr>\n",
       "      <th>3</th>\n",
       "      <td>4</td>\n",
       "      <td>Audi</td>\n",
       "      <td>100</td>\n",
       "      <td>Midsize</td>\n",
       "      <td>30.8</td>\n",
       "      <td>37.7</td>\n",
       "      <td>44.6</td>\n",
       "      <td>19</td>\n",
       "      <td>26</td>\n",
       "      <td>NaN</td>\n",
       "      <td>...</td>\n",
       "      <td>6</td>\n",
       "      <td>193</td>\n",
       "      <td>106</td>\n",
       "      <td>70</td>\n",
       "      <td>37</td>\n",
       "      <td>31.0</td>\n",
       "      <td>17.0</td>\n",
       "      <td>3405</td>\n",
       "      <td>non-USA</td>\n",
       "      <td>Audi 100</td>\n",
       "    </tr>\n",
       "    <tr>\n",
       "      <th>4</th>\n",
       "      <td>5</td>\n",
       "      <td>BMW</td>\n",
       "      <td>535i</td>\n",
       "      <td>Midsize</td>\n",
       "      <td>23.7</td>\n",
       "      <td>30.0</td>\n",
       "      <td>36.2</td>\n",
       "      <td>22</td>\n",
       "      <td>30</td>\n",
       "      <td>Driver only</td>\n",
       "      <td>...</td>\n",
       "      <td>4</td>\n",
       "      <td>186</td>\n",
       "      <td>109</td>\n",
       "      <td>69</td>\n",
       "      <td>39</td>\n",
       "      <td>27.0</td>\n",
       "      <td>13.0</td>\n",
       "      <td>3640</td>\n",
       "      <td>non-USA</td>\n",
       "      <td>BMW 535i</td>\n",
       "    </tr>\n",
       "  </tbody>\n",
       "</table>\n",
       "<p>5 rows × 28 columns</p>\n",
       "</div>"
      ],
      "text/plain": [
       "   id Manufacturer    Model     Type  Min.Price  Price  Max.Price  MPG.city  \\\n",
       "0   1        Acura  Integra    Small       12.9   15.9       18.8        25   \n",
       "1   2        Acura   Legend  Midsize       29.2   33.9       38.7        18   \n",
       "2   3         Audi       90  Compact       25.9   29.1       32.3        20   \n",
       "3   4         Audi      100  Midsize       30.8   37.7       44.6        19   \n",
       "4   5          BMW     535i  Midsize       23.7   30.0       36.2        22   \n",
       "\n",
       "   MPG.highway             AirBags  ... Passengers Length  Wheelbase  Width  \\\n",
       "0           31                None  ...          5    177        102     68   \n",
       "1           25  Driver & Passenger  ...          5    195        115     71   \n",
       "2           26         Driver only  ...          5    180        102     67   \n",
       "3           26                 NaN  ...          6    193        106     70   \n",
       "4           30         Driver only  ...          4    186        109     69   \n",
       "\n",
       "   Turn.circle  Rear.seat.room Luggage.room  Weight   Origin           Make  \n",
       "0           37            26.5         11.0    2705  non-USA  Acura Integra  \n",
       "1           38            30.0         15.0    3560  non-USA   Acura Legend  \n",
       "2           37            28.0         14.0    3375  non-USA        Audi 90  \n",
       "3           37            31.0         17.0    3405  non-USA       Audi 100  \n",
       "4           39            27.0         13.0    3640  non-USA       BMW 535i  \n",
       "\n",
       "[5 rows x 28 columns]"
      ]
     },
     "execution_count": 3,
     "metadata": {},
     "output_type": "execute_result"
    }
   ],
   "source": [
    "A.head()"
   ]
  },
  {
   "cell_type": "code",
   "execution_count": 4,
   "id": "a9ce1a2e",
   "metadata": {},
   "outputs": [],
   "source": [
    "#clustering done on the basis of these 2 columns\n",
    "B = A[[\"Price\",\"MPG.city\"]]"
   ]
  },
  {
   "cell_type": "markdown",
   "id": "1d7f2adc",
   "metadata": {},
   "source": [
    "# Standardization of data using StandardScaler\n"
   ]
  },
  {
   "cell_type": "markdown",
   "id": "2726a10e",
   "metadata": {},
   "source": [
    "\n",
    "Standardization is the process of normalizing values to bring all the data into nearly same values.StandardScaler transforms the data in such a way that it has mean as 0 and standard deviation as 1"
   ]
  },
  {
   "cell_type": "code",
   "execution_count": 5,
   "id": "20975330",
   "metadata": {},
   "outputs": [],
   "source": [
    "B = A[[\"Price\",\"MPG.city\"]]\n",
    "from sklearn.preprocessing import StandardScaler\n",
    "ss = StandardScaler()\n",
    "C = pd.DataFrame(ss.fit_transform(B),columns=B.columns)"
   ]
  },
  {
   "cell_type": "markdown",
   "id": "88c8828a",
   "metadata": {},
   "source": [
    "# To see the clusters formed"
   ]
  },
  {
   "cell_type": "code",
   "execution_count": 7,
   "id": "eb79cb52",
   "metadata": {},
   "outputs": [
    {
     "data": {
      "text/plain": [
       "array([2, 3, 0, 3, 0, 2, 0, 0, 0, 3, 3, 2, 2, 2, 2, 0, 0, 0, 3, 0, 2, 0,\n",
       "       1, 2, 2, 0, 2, 0, 1, 0, 1, 2, 2, 2, 2, 0, 0, 0, 1, 1, 2, 1, 2, 1,\n",
       "       2, 2, 2, 3, 0, 3, 3, 3, 1, 1, 2, 0, 3, 3, 3, 2, 2, 1, 0, 1, 2, 0,\n",
       "       0, 2, 2, 0, 0, 2, 1, 2, 0, 0, 0, 0, 1, 1, 2, 2, 1, 1, 2, 2, 0, 2,\n",
       "       0, 0, 0, 0, 0])"
      ]
     },
     "execution_count": 7,
     "metadata": {},
     "output_type": "execute_result"
    }
   ],
   "source": [
    "from sklearn.cluster import KMeans\n",
    "km = KMeans(n_clusters=4)\n",
    "model = km.fit(C)\n",
    "model.labels_"
   ]
  },
  {
   "cell_type": "code",
   "execution_count": 8,
   "id": "11e7b288",
   "metadata": {},
   "outputs": [
    {
     "data": {
      "text/plain": [
       "Cluster\n",
       "0    33\n",
       "1    16\n",
       "2    32\n",
       "3    12\n",
       "Name: Cluster, dtype: int64"
      ]
     },
     "execution_count": 8,
     "metadata": {},
     "output_type": "execute_result"
    }
   ],
   "source": [
    "Q = pd.DataFrame(model.labels_,columns=[\"Cluster\"])\n",
    "Q.groupby(by=\"Cluster\")['Cluster'].count()"
   ]
  },
  {
   "cell_type": "code",
   "execution_count": 9,
   "id": "b7b39e62",
   "metadata": {},
   "outputs": [
    {
     "data": {
      "text/html": [
       "<div>\n",
       "<style scoped>\n",
       "    .dataframe tbody tr th:only-of-type {\n",
       "        vertical-align: middle;\n",
       "    }\n",
       "\n",
       "    .dataframe tbody tr th {\n",
       "        vertical-align: top;\n",
       "    }\n",
       "\n",
       "    .dataframe thead th {\n",
       "        text-align: right;\n",
       "    }\n",
       "</style>\n",
       "<table border=\"1\" class=\"dataframe\">\n",
       "  <thead>\n",
       "    <tr style=\"text-align: right;\">\n",
       "      <th></th>\n",
       "      <th>Price</th>\n",
       "      <th>MPG.city</th>\n",
       "      <th>Cluster</th>\n",
       "      <th>Make</th>\n",
       "    </tr>\n",
       "  </thead>\n",
       "  <tbody>\n",
       "    <tr>\n",
       "      <th>0</th>\n",
       "      <td>15.9</td>\n",
       "      <td>25</td>\n",
       "      <td>2</td>\n",
       "      <td>Acura Integra</td>\n",
       "    </tr>\n",
       "    <tr>\n",
       "      <th>1</th>\n",
       "      <td>33.9</td>\n",
       "      <td>18</td>\n",
       "      <td>3</td>\n",
       "      <td>Acura Legend</td>\n",
       "    </tr>\n",
       "    <tr>\n",
       "      <th>2</th>\n",
       "      <td>29.1</td>\n",
       "      <td>20</td>\n",
       "      <td>0</td>\n",
       "      <td>Audi 90</td>\n",
       "    </tr>\n",
       "    <tr>\n",
       "      <th>3</th>\n",
       "      <td>37.7</td>\n",
       "      <td>19</td>\n",
       "      <td>3</td>\n",
       "      <td>Audi 100</td>\n",
       "    </tr>\n",
       "    <tr>\n",
       "      <th>4</th>\n",
       "      <td>30.0</td>\n",
       "      <td>22</td>\n",
       "      <td>0</td>\n",
       "      <td>BMW 535i</td>\n",
       "    </tr>\n",
       "    <tr>\n",
       "      <th>...</th>\n",
       "      <td>...</td>\n",
       "      <td>...</td>\n",
       "      <td>...</td>\n",
       "      <td>...</td>\n",
       "    </tr>\n",
       "    <tr>\n",
       "      <th>88</th>\n",
       "      <td>19.7</td>\n",
       "      <td>17</td>\n",
       "      <td>0</td>\n",
       "      <td>Volkswagen Eurovan</td>\n",
       "    </tr>\n",
       "    <tr>\n",
       "      <th>89</th>\n",
       "      <td>20.0</td>\n",
       "      <td>21</td>\n",
       "      <td>0</td>\n",
       "      <td>Volkswagen Passat</td>\n",
       "    </tr>\n",
       "    <tr>\n",
       "      <th>90</th>\n",
       "      <td>23.3</td>\n",
       "      <td>18</td>\n",
       "      <td>0</td>\n",
       "      <td>Volkswagen Corrado</td>\n",
       "    </tr>\n",
       "    <tr>\n",
       "      <th>91</th>\n",
       "      <td>22.7</td>\n",
       "      <td>21</td>\n",
       "      <td>0</td>\n",
       "      <td>Volvo 240</td>\n",
       "    </tr>\n",
       "    <tr>\n",
       "      <th>92</th>\n",
       "      <td>26.7</td>\n",
       "      <td>20</td>\n",
       "      <td>0</td>\n",
       "      <td>Volvo 850</td>\n",
       "    </tr>\n",
       "  </tbody>\n",
       "</table>\n",
       "<p>93 rows × 4 columns</p>\n",
       "</div>"
      ],
      "text/plain": [
       "    Price  MPG.city  Cluster                Make\n",
       "0    15.9        25        2       Acura Integra\n",
       "1    33.9        18        3        Acura Legend\n",
       "2    29.1        20        0             Audi 90\n",
       "3    37.7        19        3            Audi 100\n",
       "4    30.0        22        0            BMW 535i\n",
       "..    ...       ...      ...                 ...\n",
       "88   19.7        17        0  Volkswagen Eurovan\n",
       "89   20.0        21        0   Volkswagen Passat\n",
       "90   23.3        18        0  Volkswagen Corrado\n",
       "91   22.7        21        0           Volvo 240\n",
       "92   26.7        20        0           Volvo 850\n",
       "\n",
       "[93 rows x 4 columns]"
      ]
     },
     "execution_count": 9,
     "metadata": {},
     "output_type": "execute_result"
    }
   ],
   "source": [
    "B['Cluster']=model.labels_\n",
    "B[\"Make\"] = A.Make #type of car\n",
    "B"
   ]
  },
  {
   "cell_type": "code",
   "execution_count": 11,
   "id": "ecbd8370",
   "metadata": {},
   "outputs": [
    {
     "name": "stdout",
     "output_type": "stream",
     "text": [
      "Enter a car to find similar cars: Audi 90\n",
      "These are cars similar to the one you like\n",
      "Audi 90\n",
      "BMW 535i\n",
      "Buick LeSabre\n",
      "Buick Roadmaster\n",
      "Buick Riviera\n",
      "Chevrolet Lumina_APV\n",
      "Chevrolet Astro\n",
      "Chevrolet Caprice\n",
      "Chrylser Concorde\n",
      "Chrysler Imperial\n",
      "Dodge Caravan\n",
      "Dodge Stealth\n",
      "Eagle Vision\n",
      "Ford Aerostar\n",
      "Ford Taurus\n",
      "Ford Crown_Victoria\n",
      "Lexus ES300\n",
      "Mazda MPV\n",
      "Mitsubishi Diamante\n",
      "Nissan Quest\n",
      "Nissan Maxima\n",
      "Oldsmobile Silhouette\n",
      "Oldsmobile Eighty-Eight\n",
      "Pontiac Firebird\n",
      "Pontiac Grand_Prix\n",
      "Pontiac Bonneville\n",
      "Saab 900\n",
      "Toyota Previa\n",
      "Volkswagen Eurovan\n",
      "Volkswagen Passat\n",
      "Volkswagen Corrado\n",
      "Volvo 240\n",
      "Volvo 850\n"
     ]
    }
   ],
   "source": [
    "W = input(\"Enter a car to find similar cars: \")\n",
    "cluster_no_of_given_car = B[B.Make == W][[\"Cluster\"]].values[0][0]\n",
    "print(\"These are cars similar to the one you like\")\n",
    "for i in B[B.Cluster == cluster_no_of_given_car].Make:\n",
    "    print(i)\n"
   ]
  },
  {
   "cell_type": "markdown",
   "id": "2df187b6",
   "metadata": {},
   "source": [
    "# Visual Representation of the clusters formed"
   ]
  },
  {
   "cell_type": "code",
   "execution_count": 12,
   "id": "190e9808",
   "metadata": {},
   "outputs": [
    {
     "data": {
      "text/plain": [
       "<matplotlib.collections.PathCollection at 0x1d2d73081f0>"
      ]
     },
     "execution_count": 12,
     "metadata": {},
     "output_type": "execute_result"
    },
    {
     "data": {
      "image/png": "[encoded data removed]",
      "text/plain": [
       "<Figure size 432x288 with 1 Axes>"
      ]
     },
     "metadata": {
      "needs_background": "light"
     },
     "output_type": "display_data"
    }
   ],
   "source": [
    "plt.scatter(B.Price,B['MPG.city'],c=B.Cluster)"
   ]
  },
  {
   "cell_type": "code",
   "execution_count": 13,
   "id": "36ebb75b",
   "metadata": {},
   "outputs": [
    {
     "data": {
      "text/html": [
       "<div>\n",
       "<style scoped>\n",
       "    .dataframe tbody tr th:only-of-type {\n",
       "        vertical-align: middle;\n",
       "    }\n",
       "\n",
       "    .dataframe tbody tr th {\n",
       "        vertical-align: top;\n",
       "    }\n",
       "\n",
       "    .dataframe thead th {\n",
       "        text-align: right;\n",
       "    }\n",
       "</style>\n",
       "<table border=\"1\" class=\"dataframe\">\n",
       "  <thead>\n",
       "    <tr style=\"text-align: right;\">\n",
       "      <th></th>\n",
       "      <th>X</th>\n",
       "      <th>Y</th>\n",
       "    </tr>\n",
       "  </thead>\n",
       "  <tbody>\n",
       "    <tr>\n",
       "      <th>0</th>\n",
       "      <td>22.212121</td>\n",
       "      <td>18.666667</td>\n",
       "    </tr>\n",
       "    <tr>\n",
       "      <th>1</th>\n",
       "      <td>9.918750</td>\n",
       "      <td>32.125000</td>\n",
       "    </tr>\n",
       "    <tr>\n",
       "      <th>2</th>\n",
       "      <td>14.328125</td>\n",
       "      <td>23.062500</td>\n",
       "    </tr>\n",
       "    <tr>\n",
       "      <th>3</th>\n",
       "      <td>38.683333</td>\n",
       "      <td>17.666667</td>\n",
       "    </tr>\n",
       "  </tbody>\n",
       "</table>\n",
       "</div>"
      ],
      "text/plain": [
       "           X          Y\n",
       "0  22.212121  18.666667\n",
       "1   9.918750  32.125000\n",
       "2  14.328125  23.062500\n",
       "3  38.683333  17.666667"
      ]
     },
     "execution_count": 13,
     "metadata": {},
     "output_type": "execute_result"
    }
   ],
   "source": [
    "E = pd.DataFrame(ss.inverse_transform(model.cluster_centers_),columns=[\"X\",\"Y\"])\n",
    "E"
   ]
  },
  {
   "cell_type": "markdown",
   "id": "a2fbb6fc",
   "metadata": {},
   "source": [
    "# To see the centroid of each cluster\n"
   ]
  },
  {
   "cell_type": "code",
   "execution_count": 14,
   "id": "01cc2bd1",
   "metadata": {},
   "outputs": [
    {
     "data": {
      "text/plain": [
       "Text(0, 0.5, 'Mileage in car')"
      ]
     },
     "execution_count": 14,
     "metadata": {},
     "output_type": "execute_result"
    },
    {
     "data": {
      "image/png": "[encoded data removed]",
      "text/plain": [
       "<Figure size 432x288 with 1 Axes>"
      ]
     },
     "metadata": {
      "needs_background": "light"
     },
     "output_type": "display_data"
    }
   ],
   "source": [
    "plt.scatter(B.Price,B['MPG.city'],c=B.Cluster)\n",
    "plt.scatter(E.X,E.Y,c=\"red\",marker=\"+\",s=200)\n",
    "plt.xlabel(\"Price of Car\")\n",
    "plt.ylabel(\"Mileage in car\")"
   ]
  },
  {
   "cell_type": "markdown",
   "id": "87952f52",
   "metadata": {},
   "source": [
    "# To decide the number of clusters to be created\n"
   ]
  },
  {
   "cell_type": "markdown",
   "id": "bf8cdcb1",
   "metadata": {},
   "source": [
    "# Elbow Curve Method\n"
   ]
  },
  {
   "cell_type": "markdown",
   "id": "be9537c1",
   "metadata": {},
   "source": [
    "\n",
    "In this method, for each value of K, WCSS is calculated.WCSS is the sum of squared distance between each point and the centroid in a cluster. When we plot the WCSS with the K value,the plot looks like an elbow.\n"
   ]
  },
  {
   "cell_type": "code",
   "execution_count": 16,
   "id": "befb3ce1",
   "metadata": {},
   "outputs": [],
   "source": [
    "K = range(2,20,1)\n",
    "WCSS = []\n",
    "for i in K:\n",
    "    km = KMeans(n_clusters=i)\n",
    "    model = km.fit(C)\n",
    "    WCSS.append(model.inertia_)"
   ]
  },
  {
   "cell_type": "code",
   "execution_count": 17,
   "id": "576d59f6",
   "metadata": {},
   "outputs": [
    {
     "data": {
      "text/plain": [
       "[93.92806219538846,\n",
       " 55.24519288386834,\n",
       " 38.13325876059033,\n",
       " 25.743307121066692,\n",
       " 17.33210317456429,\n",
       " 13.640079541196194,\n",
       " 11.724190968590216,\n",
       " 10.180193157668048,\n",
       " 8.729867299293865,\n",
       " 7.824518470248384,\n",
       " 7.054575903398993,\n",
       " 6.084918347464776,\n",
       " 5.670843994775794,\n",
       " 4.898794133209955,\n",
       " 4.410013143197942,\n",
       " 3.9724196365319417,\n",
       " 3.635566602641824,\n",
       " 3.3419587717936983]"
      ]
     },
     "execution_count": 17,
     "metadata": {},
     "output_type": "execute_result"
    }
   ],
   "source": [
    "WCSS"
   ]
  },
  {
   "cell_type": "code",
   "execution_count": 18,
   "id": "f47b0880",
   "metadata": {},
   "outputs": [
    {
     "data": {
      "text/plain": [
       "Text(0.5, 1.0, 'Elbow curve Cars Data')"
      ]
     },
     "execution_count": 18,
     "metadata": {},
     "output_type": "execute_result"
    },
    {
     "data": {
      "image/png": "[encoded data removed]",
      "text/plain": [
       "<Figure size 432x288 with 1 Axes>"
      ]
     },
     "metadata": {
      "needs_background": "light"
     },
     "output_type": "display_data"
    }
   ],
   "source": [
    "plt.scatter(K,WCSS,c=\"red\")\n",
    "plt.plot(K,WCSS,c=\"blue\")\n",
    "plt.xlabel(\"Number of Clusters - K\")\n",
    "plt.ylabel(\"WCSS | Inertia\")\n",
    "plt.xticks(range(1,20,1))\n",
    "plt.yticks(range(0,110,15))\n",
    "plt.title(\"Elbow curve Cars Data\")"
   ]
  },
  {
   "cell_type": "markdown",
   "id": "c21a2949",
   "metadata": {},
   "source": [
    "# K = 6 is the best value of K because from from 1 to 6,the distance is drastically reducing. But after 6, the distance is gradually reducing."
   ]
  },
  {
   "cell_type": "markdown",
   "id": "ab278f66",
   "metadata": {},
   "source": [
    "# Hierarchical Clustering\n"
   ]
  },
  {
   "cell_type": "markdown",
   "id": "8384fad6",
   "metadata": {},
   "source": [
    "\n",
    "Algorithm that groups similar objects into groups called clusters. It creates Dendrogram\n"
   ]
  },
  {
   "cell_type": "markdown",
   "id": "cf7501ac",
   "metadata": {},
   "source": [
    "# Agglomerative Clustering\n"
   ]
  },
  {
   "cell_type": "markdown",
   "id": "919d27fd",
   "metadata": {},
   "source": [
    "\n",
    "\n",
    "It starts with individual data atoms. It follows the bottom to top approach. It is called as Dendrogram.\n"
   ]
  },
  {
   "cell_type": "code",
   "execution_count": 19,
   "id": "ce0cb209",
   "metadata": {},
   "outputs": [
    {
     "data": {
      "text/plain": [
       "array([1, 1, 1, 1, 1, 1, 1, 1, 1, 1, 1, 1, 1, 1, 1, 1, 1, 1, 1, 1, 1, 1,\n",
       "       1, 1, 1, 1, 1, 1, 1, 1, 1, 1, 1, 1, 1, 1, 1, 1, 4, 1, 1, 0, 1, 1,\n",
       "       1, 1, 1, 2, 1, 1, 1, 1, 1, 1, 1, 1, 1, 1, 3, 1, 1, 1, 1, 1, 1, 1,\n",
       "       1, 1, 1, 1, 1, 1, 1, 1, 1, 1, 1, 1, 1, 1, 1, 1, 0, 1, 1, 1, 1, 1,\n",
       "       1, 1, 1, 1, 1], dtype=int64)"
      ]
     },
     "execution_count": 19,
     "metadata": {},
     "output_type": "execute_result"
    }
   ],
   "source": [
    "from sklearn.cluster import AgglomerativeClustering\n",
    "agc = AgglomerativeClustering(n_clusters=5,linkage=\"single\")\n",
    "model = agc.fit(C)\n",
    "model.labels_"
   ]
  },
  {
   "cell_type": "code",
   "execution_count": 20,
   "id": "0b1cc374",
   "metadata": {},
   "outputs": [
    {
     "data": {
      "text/plain": [
       "Cluster\n",
       "0     2\n",
       "1    88\n",
       "2     1\n",
       "3     1\n",
       "4     1\n",
       "Name: Cluster, dtype: int64"
      ]
     },
     "execution_count": 20,
     "metadata": {},
     "output_type": "execute_result"
    }
   ],
   "source": [
    "Q = pd.DataFrame(model.labels_,columns=[\"Cluster\"])\n",
    "Q.groupby(by=\"Cluster\")['Cluster'].count()"
   ]
  },
  {
   "cell_type": "code",
   "execution_count": 21,
   "id": "d6314f9a",
   "metadata": {},
   "outputs": [
    {
     "data": {
      "text/plain": [
       "Text(0, 0.5, 'Mileage')"
      ]
     },
     "execution_count": 21,
     "metadata": {},
     "output_type": "execute_result"
    },
    {
     "data": {
      "image/png": "[encoded data removed]",
      "text/plain": [
       "<Figure size 432x288 with 1 Axes>"
      ]
     },
     "metadata": {
      "needs_background": "light"
     },
     "output_type": "display_data"
    }
   ],
   "source": [
    "plt.scatter(B.Price,B['MPG.city'],c=model.labels_)\n",
    "plt.xlabel(\"Price\")\n",
    "plt.ylabel(\"Mileage\")"
   ]
  },
  {
   "cell_type": "code",
   "execution_count": 22,
   "id": "28259ccb",
   "metadata": {},
   "outputs": [
    {
     "data": {
      "text/plain": [
       "array([[0.        , 2.25357714, 1.63948708, ..., 1.47025216, 1.00652265,\n",
       "        1.43661919],\n",
       "       [2.25357714, 0.        , 0.61453009, ..., 1.10332116, 1.28339191,\n",
       "        0.83046302],\n",
       "       [1.63948708, 0.61453009, 0.        , ..., 0.70177526, 0.68976194,\n",
       "        0.24980856],\n",
       "       ...,\n",
       "       [1.47025216, 1.10332116, 0.70177526, ..., 0.        , 0.54034034,\n",
       "        0.50326133],\n",
       "       [1.00652265, 1.28339191, 0.68976194, ..., 0.54034034, 0.        ,\n",
       "        0.45315871],\n",
       "       [1.43661919, 0.83046302, 0.24980856, ..., 0.50326133, 0.45315871,\n",
       "        0.        ]])"
      ]
     },
     "execution_count": 22,
     "metadata": {},
     "output_type": "execute_result"
    }
   ],
   "source": [
    "#point to point distance\n",
    "from scipy.spatial import distance_matrix\n",
    "distance_matrix(C,C)"
   ]
  },
  {
   "cell_type": "code",
   "execution_count": 23,
   "id": "bd09dfd7",
   "metadata": {},
   "outputs": [],
   "source": [
    "from scipy.cluster.hierarchy import dendrogram, linkage"
   ]
  },
  {
   "cell_type": "markdown",
   "id": "d76dbe72",
   "metadata": {},
   "source": [
    "point to cluster distance/cluster to cluster distance - Linkage"
   ]
  },
  {
   "cell_type": "code",
   "execution_count": 24,
   "id": "6f5e4724",
   "metadata": {},
   "outputs": [
    {
     "data": {
      "image/png": "[encoded data removed]",
      "text/plain": [
       "<Figure size 432x288 with 1 Axes>"
      ]
     },
     "metadata": {
      "needs_background": "light"
     },
     "output_type": "display_data"
    }
   ],
   "source": [
    "dendrogram(linkage(distance_matrix(C,C)))\n",
    "plt.show()"
   ]
  }
 ],
 "metadata": {
  "kernelspec": {
   "display_name": "Python 3",
   "language": "python",
   "name": "python3"
  },
  "language_info": {
   "codemirror_mode": {
    "name": "ipython",
    "version": 3
   },
   "file_extension": ".py",
   "mimetype": "text/x-python",
   "name": "python",
   "nbconvert_exporter": "python",
   "pygments_lexer": "ipython3",
   "version": "3.8.8"
  }
 },
 "nbformat": 4,
 "nbformat_minor": 5
}
